{
 "cells": [
  {
   "cell_type": "markdown",
   "id": "ff0c71b6-4d8b-47df-8705-1a7d0b25ea21",
   "metadata": {},
   "source": [
    "## To-do\n",
    "\n",
    "Os próximos passos serão focados em entender a interpolação da ANBIMA e conseguir replicar com a maior fidelidade possível.\n",
    "\n",
    "1. Interpolar NSS\n",
    "2. Como esitmar efeito das variáveis: IRF ou regressão regular?\n",
    "    - Qual o método utilizado no artigo de base? E no restante da literatura?\n",
    "    - Justificativa: queremos entender a dinâmica: como tradar?\n",
    "   \n",
    "3. Após escolher o método, escolher como serão usadas as variáveis: IPCA anual? Selic 12 meses a frente?\n",
    "4. Escolhidas as variáveis, estimar os números!\n",
    "    - Lembrando: para cada variável, estimar o impacto em *todos* os componentes da NSS!\n"
   ]
  },
  {
   "cell_type": "markdown",
   "id": "7588b2d6-1619-4cfa-aa22-95ae6dc1825c",
   "metadata": {},
   "source": [
    "## Setup: libraries"
   ]
  },
  {
   "cell_type": "code",
   "execution_count": 1,
   "id": "8a8fb964-2f6c-4f22-b6cd-80042b4e73c3",
   "metadata": {},
   "outputs": [],
   "source": [
    "import os\n",
    "\n",
    "def folder():\n",
    "    folder_name = 'Py'\n",
    "    for root, dirs, files in os.walk(os.getcwd()):\n",
    "        if folder_name in dirs:\n",
    "            new_path = os.path.join(root, folder_name)\n",
    "            os.chdir(new_path)\n",
    "        \n",
    "folder() \n",
    "\n",
    "import pandas as pd \n",
    "\n",
    "from bmf import real, nominal, update\n",
    "from visualization import dim_plot, flat_plot  \n",
    "\n",
    "from bcb import bcb\n",
    "bcb_download = bcb().bcb_download\n",
    "bcb_load = bcb().bcb_load\n",
    "bcb_download_thread = bcb().bcb_download_thread "
   ]
  },
  {
   "cell_type": "markdown",
   "id": "54fd1ec3-4c4d-4903-aac4-144c02df2fd3",
   "metadata": {},
   "source": [
    "### Functions \n",
    "\n",
    "```python\n",
    "\n",
    "# Load  yield curve history\n",
    "df_real_hist = pd.read_csv(r'./Data/ipca.csv',index_col = 0)\n",
    "df_nominal_hist = pd.read_csv(r'./Data/pre.csv', index_col = 0)\n",
    "\n",
    "# Get, from web, the yield curve for a certain intervail or date\n",
    "df = nominal('2024-01-01', '2024-02-15')\n",
    "\n",
    "# Plot a 3D chart with the yield curve\n",
    "dim_plot(df, start_date = None, end_date = None, lim = [8, 14])\n",
    "\n",
    "# Plot a 2D chart with the yield curve (or BCB's data) for several dates\n",
    "flat_plot(df, ['2024-01-02', '2024-01-03', '2024-02-02'], ['markers', 'markers', 'lines+markers'])\n",
    "\n",
    "# Download all BCB's `database from API\n",
    "df_list_bcb = bcb_download_thread()\n",
    "\n",
    "# Load all BCB's database from files\n",
    "df_selic_reuniao, df_pib_trimestral, df_ipca_12, df_selic_anual, df_pib_anual, df_usd_anual, df_ipca_anual, df_ipca_mensal, df_usd_mensal = bcb_load()\n",
    "```"
   ]
  },
  {
   "cell_type": "code",
   "id": "873c922a-f437-4196-b8d5-523fdd2a0f1b",
   "metadata": {
    "ExecuteTime": {
     "end_time": "2024-12-04T00:47:20.413337Z",
     "start_time": "2024-12-04T00:47:19.687030Z"
    }
   },
   "source": [
    "import pandas as pd\n",
    "import numpy as np\n",
    "\n",
    "# Creating a random dataframe with 10 rows and 5 columns\n",
    "np.random.seed(42)  # for reproducibility\n",
    "data = np.random.rand(10, 5)\n",
    "columns = ['A', 'B', 'C', 'D', 'E']\n",
    "df = pd.DataFrame(data, columns=columns)\n",
    "\n",
    "print(df)\n"
   ],
   "outputs": [
    {
     "name": "stdout",
     "output_type": "stream",
     "text": [
      "          A         B         C         D         E\n",
      "0  0.374540  0.950714  0.731994  0.598658  0.156019\n",
      "1  0.155995  0.058084  0.866176  0.601115  0.708073\n",
      "2  0.020584  0.969910  0.832443  0.212339  0.181825\n",
      "3  0.183405  0.304242  0.524756  0.431945  0.291229\n",
      "4  0.611853  0.139494  0.292145  0.366362  0.456070\n",
      "5  0.785176  0.199674  0.514234  0.592415  0.046450\n",
      "6  0.607545  0.170524  0.065052  0.948886  0.965632\n",
      "7  0.808397  0.304614  0.097672  0.684233  0.440152\n",
      "8  0.122038  0.495177  0.034389  0.909320  0.258780\n",
      "9  0.662522  0.311711  0.520068  0.546710  0.184854\n"
     ]
    }
   ],
   "execution_count": 1
  },
  {
   "metadata": {},
   "cell_type": "code",
   "outputs": [],
   "execution_count": null,
   "source": "",
   "id": "6c8e413e524f5da8"
  }
 ],
 "metadata": {
  "kernelspec": {
   "display_name": "Python 3 (Spyder)",
   "language": "python3",
   "name": "python3"
  },
  "language_info": {
   "codemirror_mode": {
    "name": "ipython",
    "version": 3
   },
   "file_extension": ".py",
   "mimetype": "text/x-python",
   "name": "python",
   "nbconvert_exporter": "python",
   "pygments_lexer": "ipython3",
   "version": "3.12.4"
  }
 },
 "nbformat": 4,
 "nbformat_minor": 5
}
